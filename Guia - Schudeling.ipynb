{
 "cells": [
  {
   "cell_type": "code",
   "execution_count": 1,
   "metadata": {},
   "outputs": [],
   "source": [
    "from quantumnet.components import Network, Host\n",
    "from quantumnet.objects import Qubit, Logger"
   ]
  },
  {
   "cell_type": "code",
   "execution_count": 2,
   "metadata": {},
   "outputs": [
    {
     "name": "stdout",
     "output_type": "stream",
     "text": [
      "Hosts inicializados\n",
      "Canais inicializados\n",
      "Pares EPRs adicionados\n"
     ]
    },
    {
     "data": {
      "image/png": "[encoded data removed]",
      "text/plain": [
       "<Figure size 640x480 with 1 Axes>"
      ]
     },
     "metadata": {},
     "output_type": "display_data"
    }
   ],
   "source": [
    "rede = Network()\n",
    "rede.set_ready_topology(\"Grade\", 3,3)\n",
    "rede.draw()\n",
    "Logger.activate(Logger)"
   ]
  },
  {
   "cell_type": "code",
   "execution_count": 3,
   "metadata": {},
   "outputs": [],
   "source": [
    "alice = rede.get_host(1)\n",
    "bob = rede.get_host(2)"
   ]
  },
  {
   "cell_type": "code",
   "execution_count": 4,
   "metadata": {},
   "outputs": [
    {
     "data": {
      "text/plain": [
       "{'type': 'Z',\n",
       " 'prob_erro_X': 0.0,\n",
       " 'prob_erro_Y': 0.0,\n",
       " 'prob_erro_Z': 0.3269504379095205,\n",
       " 'prob_erro_XZ': 0.0}"
      ]
     },
     "execution_count": 4,
     "metadata": {},
     "output_type": "execute_result"
    }
   ],
   "source": [
    "rede.get_channel_info(1,2)"
   ]
  },
  {
   "cell_type": "code",
   "execution_count": 5,
   "metadata": {},
   "outputs": [
    {
     "name": "stdout",
     "output_type": "stream",
     "text": [
      "Canal entre 0 e 3:\n",
      "  Tipo: X\n",
      "  Probabilidade de erro X: 0.48520460290788914\n",
      "  Probabilidade de erro Y: 0.0\n",
      "  Probabilidade de erro Z: 0.0\n",
      "  Probabilidade de erro XZ: 0.0\n",
      "----------------------------------------\n",
      "Canal entre 0 e 1:\n",
      "  Tipo: Z\n",
      "  Probabilidade de erro X: 0.0\n",
      "  Probabilidade de erro Y: 0.0\n",
      "  Probabilidade de erro Z: 0.20766829684089114\n",
      "  Probabilidade de erro XZ: 0.0\n",
      "----------------------------------------\n",
      "Canal entre 1 e 4:\n",
      "  Tipo: XZ\n",
      "  Probabilidade de erro X: 0.4096825663276531\n",
      "  Probabilidade de erro Y: 0.0\n",
      "  Probabilidade de erro Z: 0.10254721754624568\n",
      "  Probabilidade de erro XZ: 0.10036420789652203\n",
      "----------------------------------------\n",
      "Canal entre 1 e 2:\n",
      "  Tipo: Z\n",
      "  Probabilidade de erro X: 0.0\n",
      "  Probabilidade de erro Y: 0.0\n",
      "  Probabilidade de erro Z: 0.3269504379095205\n",
      "  Probabilidade de erro XZ: 0.0\n",
      "----------------------------------------\n",
      "Canal entre 2 e 5:\n",
      "  Tipo: X\n",
      "  Probabilidade de erro X: 0.2326251839865019\n",
      "  Probabilidade de erro Y: 0.0\n",
      "  Probabilidade de erro Z: 0.0\n",
      "  Probabilidade de erro XZ: 0.0\n",
      "----------------------------------------\n",
      "Canal entre 3 e 6:\n",
      "  Tipo: X\n",
      "  Probabilidade de erro X: 0.27545630834787405\n",
      "  Probabilidade de erro Y: 0.0\n",
      "  Probabilidade de erro Z: 0.0\n",
      "  Probabilidade de erro XZ: 0.0\n",
      "----------------------------------------\n",
      "Canal entre 3 e 4:\n",
      "  Tipo: Y\n",
      "  Probabilidade de erro X: 0.0\n",
      "  Probabilidade de erro Y: 0.11062820547473994\n",
      "  Probabilidade de erro Z: 0.0\n",
      "  Probabilidade de erro XZ: 0.0\n",
      "----------------------------------------\n",
      "Canal entre 4 e 7:\n",
      "  Tipo: XZ\n",
      "  Probabilidade de erro X: 0.4547732134574559\n",
      "  Probabilidade de erro Y: 0.0\n",
      "  Probabilidade de erro Z: 0.3186729677967797\n",
      "  Probabilidade de erro XZ: 0.47687347631384724\n",
      "----------------------------------------\n",
      "Canal entre 4 e 5:\n",
      "  Tipo: Y\n",
      "  Probabilidade de erro X: 0.0\n",
      "  Probabilidade de erro Y: 0.16911688036656924\n",
      "  Probabilidade de erro Z: 0.0\n",
      "  Probabilidade de erro XZ: 0.0\n",
      "----------------------------------------\n",
      "Canal entre 5 e 8:\n",
      "  Tipo: X\n",
      "  Probabilidade de erro X: 0.4232603068304561\n",
      "  Probabilidade de erro Y: 0.0\n",
      "  Probabilidade de erro Z: 0.0\n",
      "  Probabilidade de erro XZ: 0.0\n",
      "----------------------------------------\n",
      "Canal entre 6 e 7:\n",
      "  Tipo: Z\n",
      "  Probabilidade de erro X: 0.0\n",
      "  Probabilidade de erro Y: 0.0\n",
      "  Probabilidade de erro Z: 0.1410035769055225\n",
      "  Probabilidade de erro XZ: 0.0\n",
      "----------------------------------------\n",
      "Canal entre 7 e 8:\n",
      "  Tipo: X\n",
      "  Probabilidade de erro X: 0.34571394152813906\n",
      "  Probabilidade de erro Y: 0.0\n",
      "  Probabilidade de erro Z: 0.0\n",
      "  Probabilidade de erro XZ: 0.0\n",
      "----------------------------------------\n"
     ]
    }
   ],
   "source": [
    "# Itera sobre todas as arestas da rede (canais)\n",
    "for edge in rede.edges:\n",
    "    # Obtém as informações do canal entre os dois hosts (nós da aresta)\n",
    "    alice, bob = edge\n",
    "    channel_info = rede.get_channel_info(alice, bob)\n",
    "    \n",
    "    # Exibe as informações do canal\n",
    "    print(f\"Canal entre {alice} e {bob}:\")\n",
    "    print(f\"  Tipo: {channel_info['type']}\")\n",
    "    print(f\"  Probabilidade de erro X: {channel_info['prob_erro_X']}\")\n",
    "    print(f\"  Probabilidade de erro Y: {channel_info['prob_erro_Y']}\")\n",
    "    print(f\"  Probabilidade de erro Z: {channel_info['prob_erro_Z']}\")\n",
    "    print(f\"  Probabilidade de erro XZ: {channel_info['prob_erro_XZ']}\")\n",
    "    print(\"-\" * 40)\n"
   ]
  },
  {
   "cell_type": "code",
   "execution_count": 6,
   "metadata": {},
   "outputs": [],
   "source": [
    "# rede.linklayer.scheduling_verify(1,2,10)"
   ]
  },
  {
   "cell_type": "code",
   "execution_count": 7,
   "metadata": {},
   "outputs": [
    {
     "name": "stderr",
     "output_type": "stream",
     "text": [
      "2024-10-23 23:56:34,699: Iniciando purificação por bombardeamento entre 1 e 2 para 3 rounds.\n",
      "2024-10-23 23:56:34,701: Round 1: Pegando dois EPRs base para purificação: f_base1 (fidelidade 0.9) e f_base2 (fidelidade 0.9).\n",
      "2024-10-23 23:56:34,702: Purificando par de EPRs: fidelidades 0.9 e 0.9.\n",
      "2024-10-23 23:56:34,702: Round 1 - Probabilidade de sucesso: 0.8200000000000001 (Erro X, Z ou Y)\n",
      "2024-10-23 23:56:34,703: Removendo EPRs usados no round 1: f_base1 e f_base2.\n",
      "2024-10-23 23:56:34,703: Par EPR 38 removido do canal (1, 2).\n",
      "2024-10-23 23:56:34,704: Par EPR 39 removido do canal (1, 2).\n",
      "2024-10-23 23:56:34,704: Adicionando novo EPR purificado ao canal no round 1, com fidelidade 0.9878048780487805.\n",
      "2024-10-23 23:56:34,704: Par EPR <quantumnet.objects.epr.Epr object at 0x0000018E453314C0> adicionado ao canal (1, 2).\n",
      "2024-10-23 23:56:34,705: Round 1 de purificação por bombardeamento concluído com sucesso.\n",
      "2024-10-23 23:56:34,705: Round 2: Pegando EPR purificado f' (fidelidade 0.9878048780487805) e EPR base ( fidelidade 0.9).\n",
      "2024-10-23 23:56:34,706: Purificando par de EPRs: fidelidades 0.9878048780487805 e 0.9.\n",
      "2024-10-23 23:56:34,706: Round 2 - Probabilidade de sucesso: 0.8902439024390244 (Erro X, Z ou Y)\n",
      "2024-10-23 23:56:34,706: Removendo EPRs usados no round 2: f' e f_base.\n",
      "2024-10-23 23:56:34,707: Par EPR 120 removido do canal (1, 2).\n",
      "2024-10-23 23:56:34,707: Par EPR 37 removido do canal (1, 2).\n",
      "2024-10-23 23:56:34,707: Adicionando novo EPR purificado ao canal no round 2, com fidelidade 0.9986301369863013.\n",
      "2024-10-23 23:56:34,708: Par EPR <quantumnet.objects.epr.Epr object at 0x0000018E452B59A0> adicionado ao canal (1, 2).\n",
      "2024-10-23 23:56:34,708: Round 2 de purificação por bombardeamento concluído com sucesso.\n",
      "2024-10-23 23:56:34,708: Round 3: Pegando EPR purificado f'' (fidelidade 0.9986301369863013) e EPR base ( fidelidade 0.9).\n",
      "2024-10-23 23:56:34,708: Purificando par de EPRs: fidelidades 0.9986301369863013 e 0.9.\n",
      "2024-10-23 23:56:34,708: Round 3 - Probabilidade de sucesso: 0.898904109589041 (Erro X, Z ou Y)\n",
      "2024-10-23 23:56:34,709: Removendo EPRs usados no round 3: f'' e f_base.\n",
      "2024-10-23 23:56:34,709: Par EPR 121 removido do canal (1, 2).\n",
      "2024-10-23 23:56:34,710: Par EPR 36 removido do canal (1, 2).\n",
      "2024-10-23 23:56:34,710: Adicionando novo EPR purificado ao canal no round 3, com fidelidade 0.9998476074367572.\n",
      "2024-10-23 23:56:34,710: Par EPR <quantumnet.objects.epr.Epr object at 0x0000018E453314C0> adicionado ao canal (1, 2).\n",
      "2024-10-23 23:56:34,710: Round 3 de purificação por bombardeamento concluído com sucesso.\n",
      "2024-10-23 23:56:34,711: Purificação por bombardeamento concluída com sucesso entre 1 e 2.\n"
     ]
    },
    {
     "data": {
      "text/plain": [
       "True"
      ]
     },
     "execution_count": 7,
     "metadata": {},
     "output_type": "execute_result"
    }
   ],
   "source": [
    "rede.linklayer.purification_pumping(1,2,3)"
   ]
  },
  {
   "cell_type": "code",
   "execution_count": null,
   "metadata": {},
   "outputs": [],
   "source": []
  },
  {
   "cell_type": "code",
   "execution_count": 8,
   "metadata": {},
   "outputs": [],
   "source": [
    "# rede.linklayer.purification_symmetric(1,2,2)"
   ]
  },
  {
   "cell_type": "code",
   "execution_count": 9,
   "metadata": {},
   "outputs": [
    {
     "data": {
      "text/plain": [
       "[<quantumnet.objects.epr.Epr at 0x18e453d7650>,\n",
       " <quantumnet.objects.epr.Epr at 0x18e453d76b0>,\n",
       " <quantumnet.objects.epr.Epr at 0x18e453d7710>,\n",
       " <quantumnet.objects.epr.Epr at 0x18e453d7770>,\n",
       " <quantumnet.objects.epr.Epr at 0x18e453d77d0>,\n",
       " <quantumnet.objects.epr.Epr at 0x18e453d7830>,\n",
       " <quantumnet.objects.epr.Epr at 0x18e453314c0>]"
      ]
     },
     "execution_count": 9,
     "metadata": {},
     "output_type": "execute_result"
    }
   ],
   "source": [
    "rede.get_eprs_from_edge(1,2)"
   ]
  },
  {
   "cell_type": "code",
   "execution_count": 10,
   "metadata": {},
   "outputs": [
    {
     "name": "stdout",
     "output_type": "stream",
     "text": [
      "A fidelidade do EPR é: 0.9998476074367572\n"
     ]
    }
   ],
   "source": [
    "# Obter a lista de EPRs entre os nós 1 e 2\n",
    "eprs = rede.get_eprs_from_edge(1, 2)\n",
    "\n",
    "# Selecionar o EPR que você deseja medir\n",
    "epr = eprs[-1]\n",
    "\n",
    "# Medir a fidelidade do EPR\n",
    "fidelidade = epr.get_current_fidelity()\n",
    "\n",
    "# Exibir a fidelidade\n",
    "print(f\"A fidelidade do EPR é: {fidelidade}\")\n"
   ]
  },
  {
   "cell_type": "code",
   "execution_count": 11,
   "metadata": {},
   "outputs": [],
   "source": [
    "# rede.get_eprs_from_edge(1,2)"
   ]
  },
  {
   "cell_type": "code",
   "execution_count": 12,
   "metadata": {},
   "outputs": [],
   "source": [
    "# rede.linklayer.purification_pumping(1,2,1)"
   ]
  },
  {
   "cell_type": "code",
   "execution_count": 13,
   "metadata": {},
   "outputs": [],
   "source": [
    "# rede.get_eprs_from_edge(1,2)"
   ]
  },
  {
   "cell_type": "code",
   "execution_count": 14,
   "metadata": {},
   "outputs": [],
   "source": [
    "# len(rede.get_eprs_from_edge(1,2))"
   ]
  }
 ],
 "metadata": {
  "kernelspec": {
   "display_name": "Python 3",
   "language": "python",
   "name": "python3"
  },
  "language_info": {
   "codemirror_mode": {
    "name": "ipython",
    "version": 3
   },
   "file_extension": ".py",
   "mimetype": "text/x-python",
   "name": "python",
   "nbconvert_exporter": "python",
   "pygments_lexer": "ipython3",
   "version": "3.12.1"
  }
 },
 "nbformat": 4,
 "nbformat_minor": 2
}
