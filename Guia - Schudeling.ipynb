{
 "cells": [
  {
   "cell_type": "code",
   "execution_count": 1,
   "metadata": {},
   "outputs": [],
   "source": [
    "from quantumnet.components import Network, Host\n",
    "from quantumnet.objects import Qubit, Logger"
   ]
  },
  {
   "cell_type": "code",
   "execution_count": 2,
   "metadata": {},
   "outputs": [
    {
     "name": "stdout",
     "output_type": "stream",
     "text": [
      "Hosts inicializados\n",
      "Canais inicializados\n",
      "Pares EPRs adicionados\n"
     ]
    },
    {
     "data": {
      "image/png": "[encoded data removed]",
      "text/plain": [
       "<Figure size 640x480 with 1 Axes>"
      ]
     },
     "metadata": {},
     "output_type": "display_data"
    }
   ],
   "source": [
    "rede = Network()\n",
    "rede.set_ready_topology(\"Grade\", 3,3)\n",
    "rede.draw()\n",
    "Logger.activate(Logger)"
   ]
  },
  {
   "cell_type": "code",
   "execution_count": 3,
   "metadata": {},
   "outputs": [],
   "source": [
    "alice = rede.get_host(1)\n",
    "bob = rede.get_host(2)"
   ]
  },
  {
   "cell_type": "code",
   "execution_count": 4,
   "metadata": {},
   "outputs": [
    {
     "data": {
      "text/plain": [
       "{'type': 'X',\n",
       " 'prob_erro_X': 0.3267894254816083,\n",
       " 'prob_erro_Y': 0.0,\n",
       " 'prob_erro_Z': 0.0,\n",
       " 'prob_erro_XZ': 0.0}"
      ]
     },
     "execution_count": 4,
     "metadata": {},
     "output_type": "execute_result"
    }
   ],
   "source": [
    "rede.get_channel_info(1,2)"
   ]
  },
  {
   "cell_type": "code",
   "execution_count": 5,
   "metadata": {},
   "outputs": [
    {
     "name": "stdout",
     "output_type": "stream",
     "text": [
      "Canal entre 0 e 3:\n",
      "  Tipo: X\n",
      "  Probabilidade de erro X: 0.34867190616906735\n",
      "  Probabilidade de erro Y: 0.0\n",
      "  Probabilidade de erro Z: 0.0\n",
      "  Probabilidade de erro XZ: 0.0\n",
      "----------------------------------------\n",
      "Canal entre 0 e 1:\n",
      "  Tipo: Z\n",
      "  Probabilidade de erro X: 0.0\n",
      "  Probabilidade de erro Y: 0.0\n",
      "  Probabilidade de erro Z: 0.2735368435026836\n",
      "  Probabilidade de erro XZ: 0.0\n",
      "----------------------------------------\n",
      "Canal entre 1 e 4:\n",
      "  Tipo: X\n",
      "  Probabilidade de erro X: 0.397995494365491\n",
      "  Probabilidade de erro Y: 0.0\n",
      "  Probabilidade de erro Z: 0.0\n",
      "  Probabilidade de erro XZ: 0.0\n",
      "----------------------------------------\n",
      "Canal entre 1 e 2:\n",
      "  Tipo: X\n",
      "  Probabilidade de erro X: 0.3267894254816083\n",
      "  Probabilidade de erro Y: 0.0\n",
      "  Probabilidade de erro Z: 0.0\n",
      "  Probabilidade de erro XZ: 0.0\n",
      "----------------------------------------\n",
      "Canal entre 2 e 5:\n",
      "  Tipo: X\n",
      "  Probabilidade de erro X: 0.23201705050776275\n",
      "  Probabilidade de erro Y: 0.0\n",
      "  Probabilidade de erro Z: 0.0\n",
      "  Probabilidade de erro XZ: 0.0\n",
      "----------------------------------------\n",
      "Canal entre 3 e 6:\n",
      "  Tipo: Y\n",
      "  Probabilidade de erro X: 0.0\n",
      "  Probabilidade de erro Y: 0.32725601392439163\n",
      "  Probabilidade de erro Z: 0.0\n",
      "  Probabilidade de erro XZ: 0.0\n",
      "----------------------------------------\n",
      "Canal entre 3 e 4:\n",
      "  Tipo: Y\n",
      "  Probabilidade de erro X: 0.0\n",
      "  Probabilidade de erro Y: 0.35487720326571737\n",
      "  Probabilidade de erro Z: 0.0\n",
      "  Probabilidade de erro XZ: 0.0\n",
      "----------------------------------------\n",
      "Canal entre 4 e 7:\n",
      "  Tipo: X\n",
      "  Probabilidade de erro X: 0.32263008276239835\n",
      "  Probabilidade de erro Y: 0.0\n",
      "  Probabilidade de erro Z: 0.0\n",
      "  Probabilidade de erro XZ: 0.0\n",
      "----------------------------------------\n",
      "Canal entre 4 e 5:\n",
      "  Tipo: Z\n",
      "  Probabilidade de erro X: 0.0\n",
      "  Probabilidade de erro Y: 0.0\n",
      "  Probabilidade de erro Z: 0.3893859590771731\n",
      "  Probabilidade de erro XZ: 0.0\n",
      "----------------------------------------\n",
      "Canal entre 5 e 8:\n",
      "  Tipo: X\n",
      "  Probabilidade de erro X: 0.4707531670972218\n",
      "  Probabilidade de erro Y: 0.0\n",
      "  Probabilidade de erro Z: 0.0\n",
      "  Probabilidade de erro XZ: 0.0\n",
      "----------------------------------------\n",
      "Canal entre 6 e 7:\n",
      "  Tipo: Y\n",
      "  Probabilidade de erro X: 0.0\n",
      "  Probabilidade de erro Y: 0.12598327675154442\n",
      "  Probabilidade de erro Z: 0.0\n",
      "  Probabilidade de erro XZ: 0.0\n",
      "----------------------------------------\n",
      "Canal entre 7 e 8:\n",
      "  Tipo: XZ\n",
      "  Probabilidade de erro X: 0.310606901541002\n",
      "  Probabilidade de erro Y: 0.0\n",
      "  Probabilidade de erro Z: 0.24701699312219622\n",
      "  Probabilidade de erro XZ: 0.1257496957751207\n",
      "----------------------------------------\n"
     ]
    }
   ],
   "source": [
    "# Itera sobre todas as arestas da rede (canais)\n",
    "for edge in rede.edges:\n",
    "    # Obtém as informações do canal entre os dois hosts (nós da aresta)\n",
    "    alice, bob = edge\n",
    "    channel_info = rede.get_channel_info(alice, bob)\n",
    "    \n",
    "    # Exibe as informações do canal\n",
    "    print(f\"Canal entre {alice} e {bob}:\")\n",
    "    print(f\"  Tipo: {channel_info['type']}\")\n",
    "    print(f\"  Probabilidade de erro X: {channel_info['prob_erro_X']}\")\n",
    "    print(f\"  Probabilidade de erro Y: {channel_info['prob_erro_Y']}\")\n",
    "    print(f\"  Probabilidade de erro Z: {channel_info['prob_erro_Z']}\")\n",
    "    print(f\"  Probabilidade de erro XZ: {channel_info['prob_erro_XZ']}\")\n",
    "    print(\"-\" * 40)\n"
   ]
  },
  {
   "cell_type": "code",
   "execution_count": 6,
   "metadata": {},
   "outputs": [],
   "source": [
    "# rede.linklayer.scheduling_verify(1,2,10)"
   ]
  },
  {
   "cell_type": "code",
   "execution_count": 7,
   "metadata": {},
   "outputs": [
    {
     "name": "stderr",
     "output_type": "stream",
     "text": [
      "2024-10-15 14:43:24,312: Iniciando purificação simétrica entre 1 e 2 para 2 rounds.\n",
      "2024-10-15 14:43:24,313: Agora há EPRs suficientes para a purificação: 10 disponíveis.\n",
      "2024-10-15 14:43:24,313: Executando round 1 de purificação simétrica.\n",
      "2024-10-15 14:43:24,314: Purificando par de EPRs: fidelidades 0.9 e 0.9.\n",
      "2024-10-15 14:43:24,314: o valor de x é: 0.7895284782238606\n",
      "2024-10-15 14:43:24,315: Round 1 - Probabilidade de sucesso: 0.8200000000000001 (Erro X ou XZ) - Fidelidade: 0.9878048780487805\n",
      "2024-10-15 14:43:24,315: Purificando par de EPRs: fidelidades 0.9 e 0.9.\n",
      "2024-10-15 14:43:24,315: o valor de x é: 0.18102332925812603\n",
      "2024-10-15 14:43:24,316: Round 1 - Probabilidade de sucesso: 0.8200000000000001 (Erro X ou XZ) - Fidelidade: 0.9878048780487805\n",
      "2024-10-15 14:43:24,317: Par EPR 30 removido do canal (1, 2).\n",
      "2024-10-15 14:43:24,317: Par EPR 31 removido do canal (1, 2).\n",
      "2024-10-15 14:43:24,317: Par EPR 32 removido do canal (1, 2).\n",
      "2024-10-15 14:43:24,318: Par EPR 33 removido do canal (1, 2).\n",
      "2024-10-15 14:43:24,318: Par EPR <quantumnet.objects.epr.Epr object at 0x00000239E2A96CC0> adicionado ao canal (1, 2).\n",
      "2024-10-15 14:43:24,318: Par EPR <quantumnet.objects.epr.Epr object at 0x00000239F9BF14C0> adicionado ao canal (1, 2).\n",
      "2024-10-15 14:43:24,319: Round 1 de purificação concluído com sucesso.\n",
      "2024-10-15 14:43:24,319: Executando round 2 de purificação simétrica.\n",
      "2024-10-15 14:43:24,319: Purificando par de EPRs: fidelidades 0.9 e 0.9.\n",
      "2024-10-15 14:43:24,320: o valor de x é: 0.6105301841341222\n",
      "2024-10-15 14:43:24,320: Round 2 - Probabilidade de sucesso: 0.8200000000000001 (Erro X ou XZ) - Fidelidade: 0.9878048780487805\n",
      "2024-10-15 14:43:24,321: Par EPR 34 removido do canal (1, 2).\n",
      "2024-10-15 14:43:24,321: Par EPR 35 removido do canal (1, 2).\n",
      "2024-10-15 14:43:24,321: Par EPR <quantumnet.objects.epr.Epr object at 0x00000239F9758E60> adicionado ao canal (1, 2).\n",
      "2024-10-15 14:43:24,321: Round 2 de purificação concluído com sucesso.\n",
      "2024-10-15 14:43:24,322: Purificação simétrica entre 1 e 2 concluída com sucesso.\n"
     ]
    },
    {
     "data": {
      "text/plain": [
       "True"
      ]
     },
     "execution_count": 7,
     "metadata": {},
     "output_type": "execute_result"
    }
   ],
   "source": [
    "rede.linklayer.purification_symmetric(1,2,2)"
   ]
  },
  {
   "cell_type": "code",
   "execution_count": 14,
   "metadata": {},
   "outputs": [
    {
     "data": {
      "text/plain": [
       "[<quantumnet.objects.epr.Epr at 0x239e2b33aa0>,\n",
       " <quantumnet.objects.epr.Epr at 0x239e2b33b00>,\n",
       " <quantumnet.objects.epr.Epr at 0x239e2b33b60>,\n",
       " <quantumnet.objects.epr.Epr at 0x239e2b33bc0>,\n",
       " <quantumnet.objects.epr.Epr at 0x239e2a96cc0>,\n",
       " <quantumnet.objects.epr.Epr at 0x239f9bf14c0>,\n",
       " <quantumnet.objects.epr.Epr at 0x239f9758e60>]"
      ]
     },
     "execution_count": 14,
     "metadata": {},
     "output_type": "execute_result"
    }
   ],
   "source": [
    "# rede.get_eprs_from_edge(1,2)"
   ]
  },
  {
   "cell_type": "code",
   "execution_count": 15,
   "metadata": {},
   "outputs": [
    {
     "name": "stdout",
     "output_type": "stream",
     "text": [
      "A fidelidade do EPR é: 0.9878048780487805\n"
     ]
    }
   ],
   "source": [
    "# # Obter a lista de EPRs entre os nós 1 e 2\n",
    "# eprs = rede.get_eprs_from_edge(1, 2)\n",
    "\n",
    "# # Selecionar o EPR que você deseja medir\n",
    "# epr = eprs[-1]\n",
    "\n",
    "# # Medir a fidelidade do EPR\n",
    "# fidelidade = epr.get_current_fidelity()\n",
    "\n",
    "# # Exibir a fidelidade\n",
    "# print(f\"A fidelidade do EPR é: {fidelidade}\")\n"
   ]
  },
  {
   "cell_type": "code",
   "execution_count": 10,
   "metadata": {},
   "outputs": [],
   "source": [
    "# rede.get_eprs_from_edge(1,2)"
   ]
  },
  {
   "cell_type": "code",
   "execution_count": 16,
   "metadata": {},
   "outputs": [
    {
     "name": "stderr",
     "output_type": "stream",
     "text": [
      "2024-10-15 14:49:41,769: Iniciando purificação por bombardeamento entre 1 e 2 para 1 rounds.\n",
      "2024-10-15 14:49:41,769: Agora há EPRs suficientes para a purificação: 7 disponíveis.\n",
      "2024-10-15 14:49:41,770: Purificando os primeiros EPRs: fidelidades 0.9878048780487805 e 0.9878048780487805.\n",
      "2024-10-15 14:49:41,770: o valor de x é: 0.12883029554655734\n",
      "2024-10-15 14:49:41,770: Round 1 - Probabilidade de sucesso: 0.9759071980963712 - Fidelidade f': 0.999847607436757\n",
      "2024-10-15 14:49:41,771: Par EPR 121 removido do canal (1, 2).\n",
      "2024-10-15 14:49:41,771: Par EPR 122 removido do canal (1, 2).\n",
      "2024-10-15 14:49:41,771: Par EPR 121 e 122 removidos do canal.\n",
      "2024-10-15 14:49:41,772: Par EPR <quantumnet.objects.epr.Epr object at 0x00000239E2B33860> adicionado ao canal (1, 2).\n",
      "2024-10-15 14:49:41,772: Última purificação com EPR: fidelidade 0.999847607436757 com 0.999847607436757.\n",
      "2024-10-15 14:49:41,773: o valor de x é: 0.5176235921312133\n",
      "2024-10-15 14:49:41,773: Última purificação concluída com fidelidade f''': 0.9999999767694274.\n",
      "2024-10-15 14:49:41,773: Par EPR 123 removido do canal (1, 2).\n",
      "2024-10-15 14:49:41,773: Par EPR 123 removido do canal.\n",
      "2024-10-15 14:49:41,774: Par EPR <quantumnet.objects.epr.Epr object at 0x00000239E2901070> adicionado ao canal (1, 2).\n",
      "2024-10-15 14:49:41,774: Purificação por bombardeamento entre 1 e 2 concluída com sucesso.\n"
     ]
    },
    {
     "data": {
      "text/plain": [
       "True"
      ]
     },
     "execution_count": 16,
     "metadata": {},
     "output_type": "execute_result"
    }
   ],
   "source": [
    "# rede.linklayer.purification_pumping(1,2,1)"
   ]
  },
  {
   "cell_type": "code",
   "execution_count": 12,
   "metadata": {},
   "outputs": [
    {
     "data": {
      "text/plain": [
       "[<quantumnet.objects.epr.Epr at 0x239e2b33aa0>,\n",
       " <quantumnet.objects.epr.Epr at 0x239e2b33b00>,\n",
       " <quantumnet.objects.epr.Epr at 0x239e2b33b60>,\n",
       " <quantumnet.objects.epr.Epr at 0x239e2b33bc0>,\n",
       " <quantumnet.objects.epr.Epr at 0x239e2a96cc0>,\n",
       " <quantumnet.objects.epr.Epr at 0x239f9bf14c0>,\n",
       " <quantumnet.objects.epr.Epr at 0x239f9758e60>]"
      ]
     },
     "execution_count": 12,
     "metadata": {},
     "output_type": "execute_result"
    }
   ],
   "source": [
    "# rede.get_eprs_from_edge(1,2)"
   ]
  },
  {
   "cell_type": "code",
   "execution_count": 13,
   "metadata": {},
   "outputs": [
    {
     "data": {
      "text/plain": [
       "7"
      ]
     },
     "execution_count": 13,
     "metadata": {},
     "output_type": "execute_result"
    }
   ],
   "source": [
    "# len(rede.get_eprs_from_edge(1,2))"
   ]
  }
 ],
 "metadata": {
  "kernelspec": {
   "display_name": "Python 3",
   "language": "python",
   "name": "python3"
  },
  "language_info": {
   "codemirror_mode": {
    "name": "ipython",
    "version": 3
   },
   "file_extension": ".py",
   "mimetype": "text/x-python",
   "name": "python",
   "nbconvert_exporter": "python",
   "pygments_lexer": "ipython3",
   "version": "3.12.1"
  }
 },
 "nbformat": 4,
 "nbformat_minor": 2
}
