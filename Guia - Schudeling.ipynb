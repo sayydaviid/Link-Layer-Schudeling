{
 "cells": [
  {
   "cell_type": "markdown",
   "metadata": {},
   "source": [
    "### Importando as dependências"
   ]
  },
  {
   "cell_type": "code",
   "execution_count": 1,
   "metadata": {},
   "outputs": [],
   "source": [
    "from quantumnet.components import Network, Host\n",
    "from quantumnet.objects import Qubit, Logger"
   ]
  },
  {
   "cell_type": "markdown",
   "metadata": {},
   "source": [
    "### Instanciando a rede, setando a topologia e ativando o log"
   ]
  },
  {
   "cell_type": "code",
   "execution_count": 2,
   "metadata": {},
   "outputs": [
    {
     "name": "stdout",
     "output_type": "stream",
     "text": [
      "Hosts inicializados\n",
      "Canais inicializados\n",
      "Pares EPRs adicionados\n"
     ]
    },
    {
     "data": {
      "image/png": "[encoded data removed]",
      "text/plain": [
       "<Figure size 640x480 with 1 Axes>"
      ]
     },
     "metadata": {},
     "output_type": "display_data"
    }
   ],
   "source": [
    "rede = Network()\n",
    "rede.set_ready_topology(\"Grade\", 3,3)\n",
    "rede.draw()\n",
    "Logger.activate(Logger)"
   ]
  },
  {
   "cell_type": "markdown",
   "metadata": {},
   "source": [
    "#### Pegando alice e bob como os nós 1, 2 respectivamente"
   ]
  },
  {
   "cell_type": "code",
   "execution_count": 3,
   "metadata": {},
   "outputs": [],
   "source": [
    "alice = rede.get_host(1)\n",
    "bob = rede.get_host(2)"
   ]
  },
  {
   "cell_type": "markdown",
   "metadata": {},
   "source": [
    "### Função de verificação do canal, para sabermos o estado do canal"
   ]
  },
  {
   "cell_type": "code",
   "execution_count": 4,
   "metadata": {},
   "outputs": [
    {
     "data": {
      "text/plain": [
       "{'type': 'X',\n",
       " 'prob_erro_X': 0.1901302336297117,\n",
       " 'prob_erro_Y': 0.0,\n",
       " 'prob_erro_Z': 0.0,\n",
       " 'prob_erro_XZ': 0.0}"
      ]
     },
     "execution_count": 4,
     "metadata": {},
     "output_type": "execute_result"
    }
   ],
   "source": [
    "rede.get_channel_info(1,2)"
   ]
  },
  {
   "cell_type": "markdown",
   "metadata": {},
   "source": [
    "### Função de verificação de todos os canais da rede, para sabermos o estado de todos os canais"
   ]
  },
  {
   "cell_type": "code",
   "execution_count": 5,
   "metadata": {},
   "outputs": [
    {
     "name": "stdout",
     "output_type": "stream",
     "text": [
      "Canal entre 0 e 3:\n",
      "  Tipo: Y\n",
      "  Probabilidade de erro X: 0.0\n",
      "  Probabilidade de erro Y: 0.16717149386080865\n",
      "  Probabilidade de erro Z: 0.0\n",
      "  Probabilidade de erro XZ: 0.0\n",
      "----------------------------------------\n",
      "Canal entre 0 e 1:\n",
      "  Tipo: Y\n",
      "  Probabilidade de erro X: 0.0\n",
      "  Probabilidade de erro Y: 0.41744784304228244\n",
      "  Probabilidade de erro Z: 0.0\n",
      "  Probabilidade de erro XZ: 0.0\n",
      "----------------------------------------\n",
      "Canal entre 1 e 4:\n",
      "  Tipo: XZ\n",
      "  Probabilidade de erro X: 0.13596192925931697\n",
      "  Probabilidade de erro Y: 0.0\n",
      "  Probabilidade de erro Z: 0.30388367289132817\n",
      "  Probabilidade de erro XZ: 0.40046517550326544\n",
      "----------------------------------------\n",
      "Canal entre 1 e 2:\n",
      "  Tipo: X\n",
      "  Probabilidade de erro X: 0.1901302336297117\n",
      "  Probabilidade de erro Y: 0.0\n",
      "  Probabilidade de erro Z: 0.0\n",
      "  Probabilidade de erro XZ: 0.0\n",
      "----------------------------------------\n",
      "Canal entre 2 e 5:\n",
      "  Tipo: X\n",
      "  Probabilidade de erro X: 0.20193512275915487\n",
      "  Probabilidade de erro Y: 0.0\n",
      "  Probabilidade de erro Z: 0.0\n",
      "  Probabilidade de erro XZ: 0.0\n",
      "----------------------------------------\n",
      "Canal entre 3 e 6:\n",
      "  Tipo: Z\n",
      "  Probabilidade de erro X: 0.0\n",
      "  Probabilidade de erro Y: 0.0\n",
      "  Probabilidade de erro Z: 0.3588674874456278\n",
      "  Probabilidade de erro XZ: 0.0\n",
      "----------------------------------------\n",
      "Canal entre 3 e 4:\n",
      "  Tipo: Z\n",
      "  Probabilidade de erro X: 0.0\n",
      "  Probabilidade de erro Y: 0.0\n",
      "  Probabilidade de erro Z: 0.43457409964431015\n",
      "  Probabilidade de erro XZ: 0.0\n",
      "----------------------------------------\n",
      "Canal entre 4 e 7:\n",
      "  Tipo: XZ\n",
      "  Probabilidade de erro X: 0.3996720854638035\n",
      "  Probabilidade de erro Y: 0.0\n",
      "  Probabilidade de erro Z: 0.22379656467413367\n",
      "  Probabilidade de erro XZ: 0.2550230822363483\n",
      "----------------------------------------\n",
      "Canal entre 4 e 5:\n",
      "  Tipo: Y\n",
      "  Probabilidade de erro X: 0.0\n",
      "  Probabilidade de erro Y: 0.4902272195501096\n",
      "  Probabilidade de erro Z: 0.0\n",
      "  Probabilidade de erro XZ: 0.0\n",
      "----------------------------------------\n",
      "Canal entre 5 e 8:\n",
      "  Tipo: X\n",
      "  Probabilidade de erro X: 0.4415305708624784\n",
      "  Probabilidade de erro Y: 0.0\n",
      "  Probabilidade de erro Z: 0.0\n",
      "  Probabilidade de erro XZ: 0.0\n",
      "----------------------------------------\n",
      "Canal entre 6 e 7:\n",
      "  Tipo: X\n",
      "  Probabilidade de erro X: 0.25370729069112447\n",
      "  Probabilidade de erro Y: 0.0\n",
      "  Probabilidade de erro Z: 0.0\n",
      "  Probabilidade de erro XZ: 0.0\n",
      "----------------------------------------\n",
      "Canal entre 7 e 8:\n",
      "  Tipo: X\n",
      "  Probabilidade de erro X: 0.1866300816914035\n",
      "  Probabilidade de erro Y: 0.0\n",
      "  Probabilidade de erro Z: 0.0\n",
      "  Probabilidade de erro XZ: 0.0\n",
      "----------------------------------------\n"
     ]
    }
   ],
   "source": [
    "rede.channels_informations()"
   ]
  },
  {
   "cell_type": "markdown",
   "metadata": {},
   "source": [
    "### Função de agendamento de purificação, nesta função é verificado se o canal está pronto para purificação, se sim, é agendado a purificação, além disso podemos escolher entre a purifição simétrica ou pumping, e quantidade de rounds desejados"
   ]
  },
  {
   "cell_type": "code",
   "execution_count": 6,
   "metadata": {},
   "outputs": [
    {
     "name": "stderr",
     "output_type": "stream",
     "text": [
      "2024-10-27 16:15:28,100: Iniciando purificação simétrica entre 1 e 2 para 3 rounds.\n",
      "2024-10-27 16:15:28,101: Agora há EPRs suficientes para a purificação: 10 disponíveis.\n",
      "2024-10-27 16:15:28,101: Timeslot 1 - Executando round 1 de purificação simétrica.\n",
      "2024-10-27 16:15:28,102: Purificando par de EPRs: fidelidades 0.9 e 0.9.\n",
      "2024-10-27 16:15:28,103: Round 1 - Probabilidade de sucesso: 0.8200000000000001 (Erro X ou Y ou Z) - Fidelidade: 0.9878048780487805\n",
      "2024-10-27 16:15:28,103: Purificando par de EPRs: fidelidades 0.9 e 0.9.\n",
      "2024-10-27 16:15:28,103: Round 1 - Probabilidade de sucesso: 0.8200000000000001 (Erro X ou Y ou Z) - Fidelidade: 0.9878048780487805\n",
      "2024-10-27 16:15:28,104: Purificando par de EPRs: fidelidades 0.9 e 0.9.\n",
      "2024-10-27 16:15:28,104: Round 1 - Probabilidade de sucesso: 0.8200000000000001 (Erro X ou Y ou Z) - Fidelidade: 0.9878048780487805\n",
      "2024-10-27 16:15:28,104: Purificando par de EPRs: fidelidades 0.9 e 0.9.\n",
      "2024-10-27 16:15:28,104: Round 1 - Probabilidade de sucesso: 0.8200000000000001 (Erro X ou Y ou Z) - Fidelidade: 0.9878048780487805\n",
      "2024-10-27 16:15:28,107: Par EPR 30 removido do canal (1, 2).\n",
      "2024-10-27 16:15:28,108: Par EPR 31 removido do canal (1, 2).\n",
      "2024-10-27 16:15:28,109: Par EPR 32 removido do canal (1, 2).\n",
      "2024-10-27 16:15:28,110: Par EPR 33 removido do canal (1, 2).\n",
      "2024-10-27 16:15:28,110: Par EPR 34 removido do canal (1, 2).\n",
      "2024-10-27 16:15:28,112: Par EPR 35 removido do canal (1, 2).\n",
      "2024-10-27 16:15:28,112: Par EPR 36 removido do canal (1, 2).\n",
      "2024-10-27 16:15:28,113: Par EPR 37 removido do canal (1, 2).\n",
      "2024-10-27 16:15:28,114: Par EPR <quantumnet.objects.epr.Epr object at 0x0000020744DDDA30> adicionado ao canal (1, 2).\n",
      "2024-10-27 16:15:28,114: Par EPR <quantumnet.objects.epr.Epr object at 0x000002072DB8E0C0> adicionado ao canal (1, 2).\n",
      "2024-10-27 16:15:28,115: Par EPR <quantumnet.objects.epr.Epr object at 0x000002072D82F350> adicionado ao canal (1, 2).\n",
      "2024-10-27 16:15:28,115: Par EPR <quantumnet.objects.epr.Epr object at 0x000002072DC47C80> adicionado ao canal (1, 2).\n",
      "2024-10-27 16:15:28,116: Round 1 de purificação concluído com sucesso.\n",
      "2024-10-27 16:15:28,117: Timeslot 2 - Executando round 2 de purificação simétrica.\n",
      "2024-10-27 16:15:28,117: Purificando par de EPRs: fidelidades 0.9 e 0.9.\n",
      "2024-10-27 16:15:28,118: Round 2 - Probabilidade de sucesso: 0.8200000000000001 (Erro X ou Y ou Z) - Fidelidade: 0.9878048780487805\n",
      "2024-10-27 16:15:28,118: Purificando par de EPRs: fidelidades 0.9878048780487805 e 0.9878048780487805.\n",
      "2024-10-27 16:15:28,119: Round 2 - Probabilidade de sucesso: 0.9759071980963712 (Erro X ou Y ou Z) - Fidelidade: 0.999847607436757\n",
      "2024-10-27 16:15:28,119: Par EPR 38 removido do canal (1, 2).\n",
      "2024-10-27 16:15:28,119: Par EPR 39 removido do canal (1, 2).\n",
      "2024-10-27 16:15:28,119: Par EPR 120 removido do canal (1, 2).\n",
      "2024-10-27 16:15:28,119: Par EPR 121 removido do canal (1, 2).\n",
      "2024-10-27 16:15:28,120: Par EPR <quantumnet.objects.epr.Epr object at 0x0000020745F679E0> adicionado ao canal (1, 2).\n",
      "2024-10-27 16:15:28,121: Par EPR <quantumnet.objects.epr.Epr object at 0x0000020745F28860> adicionado ao canal (1, 2).\n",
      "2024-10-27 16:15:28,122: Round 2 de purificação concluído com sucesso.\n",
      "2024-10-27 16:15:28,124: Timeslot 3 - Executando round 3 de purificação simétrica.\n",
      "2024-10-27 16:15:28,124: Purificando par de EPRs: fidelidades 0.9878048780487805 e 0.9878048780487805.\n",
      "2024-10-27 16:15:28,125: Round 3 - Probabilidade de sucesso: 0.9759071980963712 (Erro X ou Y ou Z) - Fidelidade: 0.999847607436757\n",
      "2024-10-27 16:15:28,126: Par EPR 122 removido do canal (1, 2).\n",
      "2024-10-27 16:15:28,126: Par EPR 123 removido do canal (1, 2).\n",
      "2024-10-27 16:15:28,127: Par EPR <quantumnet.objects.epr.Epr object at 0x000002072DB8E0C0> adicionado ao canal (1, 2).\n",
      "2024-10-27 16:15:28,127: Round 3 de purificação concluído com sucesso.\n",
      "2024-10-27 16:15:28,128: Purificação simétrica entre 1 e 2 concluída com sucesso.\n"
     ]
    },
    {
     "data": {
      "text/plain": [
       "True"
      ]
     },
     "execution_count": 6,
     "metadata": {},
     "output_type": "execute_result"
    }
   ],
   "source": [
    "rede.linklayer.purification_scheduling(1,2,'simetric',3)"
   ]
  },
  {
   "cell_type": "markdown",
   "metadata": {},
   "source": [
    "### Função de agendamento de verificação para verificar quantos eprs são necessários para purificar o canal"
   ]
  },
  {
   "cell_type": "code",
   "execution_count": 7,
   "metadata": {},
   "outputs": [],
   "source": [
    "rede.linklayer.scheduling_verify(1,2,10)"
   ]
  },
  {
   "cell_type": "markdown",
   "metadata": {},
   "source": [
    "### Função de purificação simétrica."
   ]
  },
  {
   "cell_type": "code",
   "execution_count": 8,
   "metadata": {},
   "outputs": [],
   "source": [
    "rede.linklayer.purification_symmetric(1,2,2)"
   ]
  },
  {
   "cell_type": "markdown",
   "metadata": {},
   "source": [
    "### Função de purificação pumping."
   ]
  },
  {
   "cell_type": "code",
   "execution_count": 9,
   "metadata": {},
   "outputs": [],
   "source": [
    "rede.linklayer.purification_pumping(1,2,3)"
   ]
  },
  {
   "cell_type": "code",
   "execution_count": 10,
   "metadata": {},
   "outputs": [
    {
     "data": {
      "text/plain": [
       "[<quantumnet.objects.epr.Epr at 0x20745f679e0>,\n",
       " <quantumnet.objects.epr.Epr at 0x20745f28860>,\n",
       " <quantumnet.objects.epr.Epr at 0x2072db8e0c0>]"
      ]
     },
     "execution_count": 10,
     "metadata": {},
     "output_type": "execute_result"
    }
   ],
   "source": [
    "rede.get_eprs_from_edge(1,2)"
   ]
  },
  {
   "cell_type": "code",
   "execution_count": 11,
   "metadata": {},
   "outputs": [
    {
     "name": "stdout",
     "output_type": "stream",
     "text": [
      "A fidelidade do EPR é: 0.999847607436757\n"
     ]
    }
   ],
   "source": [
    "# Obter a lista de EPRs entre os nós 1 e 2\n",
    "eprs = rede.get_eprs_from_edge(1, 2)\n",
    "\n",
    "# Selecionar o EPR que você deseja medir\n",
    "epr = eprs[-1]\n",
    "\n",
    "# Medir a fidelidade do EPR\n",
    "fidelidade = epr.get_current_fidelity()\n",
    "\n",
    "# Exibir a fidelidade\n",
    "print(f\"A fidelidade do EPR é: {fidelidade}\")\n"
   ]
  }
 ],
 "metadata": {
  "kernelspec": {
   "display_name": "Python 3",
   "language": "python",
   "name": "python3"
  },
  "language_info": {
   "codemirror_mode": {
    "name": "ipython",
    "version": 3
   },
   "file_extension": ".py",
   "mimetype": "text/x-python",
   "name": "python",
   "nbconvert_exporter": "python",
   "pygments_lexer": "ipython3",
   "version": "3.12.1"
  }
 },
 "nbformat": 4,
 "nbformat_minor": 2
}
